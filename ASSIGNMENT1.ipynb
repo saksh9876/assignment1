{
 "cells": [
  {
   "cell_type": "markdown",
   "id": "b21c7e16-7c14-4bd9-aea7-49bc49f7733b",
   "metadata": {},
   "source": [
    "Q1. What is the Probability density function?"
   ]
  },
  {
   "cell_type": "markdown",
   "id": "12654a6b-b746-462c-9414-c978e4025bf1",
   "metadata": {},
   "source": [
    "ANS->A probability density function describes a probability distribution for a random, continuous variable. Use a probability density function to find the chances that the value of a random variable will occur within a range of values that you specify"
   ]
  },
  {
   "cell_type": "markdown",
   "id": "a3287110-a3aa-499f-bc8b-fff8dc28f3c9",
   "metadata": {},
   "source": [
    "Q2. What are the types of Probability distribution?"
   ]
  },
  {
   "cell_type": "markdown",
   "id": "e7ca3100-2cef-4c86-8cf2-1750c32b6ecb",
   "metadata": {},
   "source": [
    "ANS->types of probability distribution\n",
    "\n",
    "1.normal/gaussion distribution\n",
    "2.bernoulli distribution\n",
    "3.uniform distribution\n",
    "4.log normal distribution\n",
    "5.poission distribution\n",
    "6.power law distribution\n",
    "7.binomial distribution"
   ]
  },
  {
   "cell_type": "markdown",
   "id": "dfead4bd-2cdf-485a-8acb-f86ff7714b63",
   "metadata": {},
   "source": [
    "Q3. Write a Python function to calculate the probability density function of a normal distribution with\n",
    "given mean and standard deviation at a given point."
   ]
  },
  {
   "cell_type": "markdown",
   "id": "d14a3423-aa10-42ad-977c-0b9597f0b24b",
   "metadata": {},
   "source": [
    "\n",
    "To calculate the probability density function (PDF) of a normal distribution at a given point, you can use the formula for the normal distribution PDF:\n",
    "\n",
    "PDF(x; μ, σ) = (1 / (σ * √(2 * π))) * exp(-(x - μ)^2 / (2 * σ^2))\n",
    "\n",
    "Where:\n",
    "\n",
    "x is the point at which you want to calculate the PDF.\n",
    "\n",
    "μ is the mean of the normal distribution.\n",
    "\n",
    "σ is the standard deviation of the normal distribution.\n",
    "\n",
    "π is the mathematical constant pi (approximately 3.14159).\n",
    "exp() is the exponential function.\n"
   ]
  },
  {
   "cell_type": "markdown",
   "id": "0fa20d49-017f-453d-8af2-6a565d554314",
   "metadata": {},
   "source": [
    "Q4. What are the properties of Binomial distribution? Give two examples of events where binomial\n",
    "distribution can be applied."
   ]
  },
  {
   "cell_type": "markdown",
   "id": "b934512a-f6e4-4144-a474-807b9e368a59",
   "metadata": {},
   "source": [
    "ans:->\n",
    "The properties of a Binomial distribution are as follows:\n",
    "\n",
    "1.Discrete Probability Distribution: The Binomial distribution is a discrete probability distribution, which means it describes the probabilities of different outcomes in a fixed number of independent trials.\n",
    "\n",
    "2.Two Possible Outcomes: Each trial in a Binomial distribution can result in one of two possible outcomes, often referred to as \"success\" and \"failure.\" These outcomes are mutually exclusive and exhaustive.\n",
    "\n",
    "3.Fixed Number of Trials: The distribution considers a fixed number of trials, denoted by 'n', where each trial is independent of the others.\n",
    "\n",
    "4.Constant Probability of Success: The probability of success on each trial is denoted by 'p' and remains constant throughout all trials.\n",
    "\n",
    "5.Bernoulli Trials: The Binomial distribution is based on Bernoulli trials, which are random experiments with two possible outcomes and a fixed probability of success on each trial.\n",
    "\n",
    "6.Probability Mass Function (PMF): The probability mass function of the Binomial distribution gives the probability of getting exactly 'k' successes in 'n' trials.\n",
    "\n",
    "The PMF of a Binomial distribution is given by:\n",
    "P(X = k) = C(n, k) * p^k * (1 - p)^(n - k)\n",
    "\n",
    "Where:\n",
    "\n",
    "P(X = k) is the probability of getting exactly 'k' successes.\n",
    "C(n, k) is the binomial coefficient, equal to n! / (k! * (n - k)!).\n",
    "p is the probability of success on a single trial.\n",
    "(1 - p) is the probability of failure on a single trial.\n",
    "n is the number of trials.\n",
    "k is the number of successes we are interested in.\n",
    "Two examples where the Binomial distribution can be applied are:\n",
    "\n",
    "1.Coin Tossing: Consider flipping a fair coin (where the probability of getting heads is 0.5) 10 times. We can use the Binomial distribution to calculate the probability of getting a specific number of heads, such as 3 heads or 7 heads, out of the 10 coin flips.\n",
    "\n",
    "2.Quality Control: Suppose a factory produces light bulbs, and the probability of a bulb being defective is 0.02. If we randomly select 100 light bulbs from the production line, we can use the Binomial distribution to find the probability of having a certain number of defective bulbs in our sample. For example, we can calculate the probability of exactly 2 defective bulbs or at most 5 defective bulbs in the sample.\n",
    "\n",
    "\n",
    "\n",
    "\n"
   ]
  },
  {
   "cell_type": "markdown",
   "id": "68b248b8-10a7-4f9f-9750-6cc4d15d9a66",
   "metadata": {},
   "source": [
    "Q5. Generate a random sample of size 1000 from a binomial distribution with probability of success 0.4\n",
    "and plot a histogram of the results using matplotlib."
   ]
  },
  {
   "cell_type": "code",
   "execution_count": 6,
   "id": "c1ab276d-917c-499c-adf3-394838d10b69",
   "metadata": {},
   "outputs": [
    {
     "data": {
      "image/png": "[encoded data removed]",
      "text/plain": [
       "<Figure size 640x480 with 1 Axes>"
      ]
     },
     "metadata": {},
     "output_type": "display_data"
    }
   ],
   "source": [
    "import numpy as np\n",
    "import matplotlib.pyplot as plt\n",
    "\n",
    "# Set the parameters for the binomial distribution\n",
    "sample_size = 1000\n",
    "probability_of_success = 0.4\n",
    "\n",
    "# Generate the random sample\n",
    "random_sample = np.random.binomial(1, probability_of_success, sample_size)\n",
    "\n",
    "# Plot the histogram\n",
    "plt.hist(random_sample, bins=[0, 1, 2], align='left', rwidth=0.8, color='skyblue')\n",
    "plt.xticks([0, 1], ['Failure', 'Success'])\n",
    "plt.xlabel('Outcome')\n",
    "plt.ylabel('Frequency')\n",
    "plt.title('Histogram of Random Sample from Binomial Distribution')\n",
    "plt.show()"
   ]
  },
  {
   "cell_type": "markdown",
   "id": "7462b7b0-bbee-432e-b442-afb7598e366f",
   "metadata": {},
   "source": [
    "In this code, we use NumPy's np.random.binomial function to generate a random sample of size 1000 from a binomial distribution with a probability of success 0.4. The binomial function takes three arguments: n (the number of trials, which is 1 for a single Bernoulli trial), p (the probability of success), and size (the size of the random sample).\n",
    "\n",
    "The histogram is then plotted using matplotlib's plt.hist function, with two bins corresponding to the two possible outcomes (0 for failure and 1 for success). The x-axis labels are set to 'Failure' and 'Success' for better readability. The histogram will display the frequencies of each outcome in the random sample."
   ]
  },
  {
   "cell_type": "markdown",
   "id": "0993318e-7cdf-4e13-b849-fe6b9bd90299",
   "metadata": {},
   "source": [
    "Q6. Write a Python function to calculate the cumulative distribution function of a Poisson distribution\n",
    "with given mean at a given point."
   ]
  },
  {
   "cell_type": "code",
   "execution_count": 7,
   "id": "f5f4e6cd-305f-4f17-8ea3-03f600fb7391",
   "metadata": {},
   "outputs": [],
   "source": [
    "from scipy.stats import poisson\n",
    "\n",
    "def poisson_cdf(mean, x):\n",
    "    \"\"\"\n",
    "    Calculate the cumulative distribution function (CDF) of a Poisson distribution.\n",
    "\n",
    "    Parameters:\n",
    "        mean (float): The mean (lambda) of the Poisson distribution.\n",
    "        x (int or array-like): The point(s) at which to evaluate the CDF.\n",
    "\n",
    "    Returns:\n",
    "        float or array-like: The CDF value(s) at the given point(s).\n",
    "    \"\"\"\n",
    "    return poisson.cdf(x, mean)"
   ]
  },
  {
   "cell_type": "code",
   "execution_count": 8,
   "id": "9e295190-d971-45bd-b3e9-b452c7895aed",
   "metadata": {},
   "outputs": [
    {
     "name": "stdout",
     "output_type": "stream",
     "text": [
      "CDF at x = 4: 0.8911780189141513\n"
     ]
    }
   ],
   "source": [
    "mean = 2.5\n",
    "point = 4\n",
    "\n",
    "cdf_value = poisson_cdf(mean, point)\n",
    "print(f\"CDF at x = {point}: {cdf_value}\")"
   ]
  },
  {
   "cell_type": "markdown",
   "id": "8c347337-57eb-4d65-a1ab-0470689256bb",
   "metadata": {},
   "source": [
    "Q7. How Binomial distribution different from Poisson distribution?"
   ]
  },
  {
   "cell_type": "markdown",
   "id": "caea00a0-418e-44ae-b88e-10b818655b90",
   "metadata": {},
   "source": [
    "\n",
    "The Binomial and Poisson distributions are both probability distributions that are used to model discrete random variables. However, they have distinct characteristics and are applied to different types of scenarios.\n",
    "\n",
    "Binomial Distribution:\n",
    "\n",
    "1.Number of Trials: The Binomial distribution is used to model the number of successes in a fixed number of independent Bernoulli trials (two possible outcomes: success or failure).\n",
    "\n",
    "2.Probability of Success: Each trial in the Binomial distribution has the same probability of success denoted by 'p'. The probability of failure is (1 - p).\n",
    "\n",
    "3.Number of Successes: The distribution considers a fixed number of trials 'n', and it calculates the probability of getting 'k' successes in those 'n' trials.\n",
    "\n",
    "4.Assumptions: The trials are independent of each other, and the probability of success remains constant across all trials.\n",
    "\n",
    "Poisson Distribution:\n",
    "\n",
    "1.Number of Events: The Poisson distribution is used to model the number of events that occur in a fixed interval of time or space.\n",
    "\n",
    "2.Rate Parameter: The distribution is characterized by a single parameter 'λ' (lambda), which represents the average rate of events occurring in the given interval.\n",
    "3.Continuous Nature: While it models discrete events, it is often used for situations where the number of events is relatively large, and the interval is small, making it approximate a continuous distribution.\n",
    "\n",
    "4.Assumptions: The events occur randomly in time or space, and the events must be independent of each other.\n",
    "Key Differences:\n",
    "\n",
    "1.Nature of Events: The Binomial distribution deals with the number of successes in a fixed number of trials, while the Poisson distribution deals with the number of events occurring in a fixed interval.\n",
    "\n",
    "2.Number of Parameters: The Binomial distribution requires two parameters: the probability of success 'p' and the number of trials 'n'. The Poisson distribution requires only one parameter: the average rate of events 'λ'.\n",
    "\n",
    "3.Continuous vs. Discrete: The Poisson distribution is typically used for continuous events, whereas the Binomial distribution is specifically designed for discrete outcomes.\n",
    "\n",
    "4.Applicability: The Binomial distribution is more suitable when there is a fixed number of independent trials with a constant probability of success, such as coin tosses or quality control problems. The Poisson distribution is more appropriate when modeling the occurrence of rare events over a fixed interval, like the number of customer arrivals at a store within an hour.\n",
    "\n",
    "\n",
    "In summary, the Binomial distribution models the number of successes in a fixed number of trials with a constant probability, while the Poisson distribution models the number of events occurring in a fixed interval with a given average rate. They have different applications and assumptions, making them useful in distinct types of problems."
   ]
  },
  {
   "cell_type": "markdown",
   "id": "62a3552e-47ed-4a45-b033-a210140084b4",
   "metadata": {},
   "source": [
    "Q8. Generate a random sample of size 1000 from a Poisson distribution with mean 5 and calculate the\n",
    "sample mean and variance."
   ]
  },
  {
   "cell_type": "code",
   "execution_count": 10,
   "id": "2d01a41e-886f-40a9-86b6-fb6b0bb68e35",
   "metadata": {},
   "outputs": [
    {
     "name": "stdout",
     "output_type": "stream",
     "text": [
      "Sample Mean: 4.961\n",
      "Sample Variance: 4.6301091091091084\n"
     ]
    }
   ],
   "source": [
    "import numpy as np\n",
    "\n",
    "# Set the parameters for the Poisson distribution\n",
    "sample_size = 1000\n",
    "mean = 5\n",
    "\n",
    "# Generate the random sample\n",
    "random_sample = np.random.poisson(mean, sample_size)\n",
    "\n",
    "# Calculate the sample mean and variance\n",
    "sample_mean = np.mean(random_sample)\n",
    "sample_variance = np.var(random_sample, ddof=1)  # Use ddof=1 for sample variance\n",
    "\n",
    "print(\"Sample Mean:\", sample_mean)\n",
    "print(\"Sample Variance:\", sample_variance)"
   ]
  },
  {
   "cell_type": "markdown",
   "id": "4764aec9-71e5-48f0-bf48-16e654203052",
   "metadata": {},
   "source": [
    "Q9. How mean and variance are related in Binomial distribution and Poisson distribution?"
   ]
  },
  {
   "cell_type": "markdown",
   "id": "4702de96-9f51-4de7-b92c-d95c17c2ab47",
   "metadata": {},
   "source": [
    "In both the Binomial distribution and Poisson distribution, the mean and variance are related, but the nature of their relationship differs.\n",
    "\n",
    "Binomial Distribution:\n",
    "For a Binomial distribution with parameters 'n' (number of trials) and 'p' (probability of success on a single trial), the mean (μ) and variance (σ^2) are related as follows:\n",
    "\n",
    "Mean (μ) = n * p\n",
    "Variance (σ^2) = n * p * (1 - p)\n",
    "\n",
    "Here, the mean of the Binomial distribution is simply the product of the number of trials 'n' and the probability of success 'p'. The variance is the product of 'n', 'p', and (1 - p). As 'n' increases while keeping 'p' constant, the variance tends to increase as well.\n",
    "\n",
    "Poisson Distribution:\n",
    "For a Poisson distribution with parameter 'λ' (lambda), which represents the average rate of events occurring in a fixed interval, the mean (μ) and variance (σ^2) are related as follows:\n",
    "\n",
    "Mean (μ) = λ\n",
    "Variance (σ^2) = λ\n",
    "\n",
    "In the Poisson distribution, the mean (μ) is equal to the rate parameter 'λ', which represents the average number of events occurring in the fixed interval. The variance (σ^2) is also equal to 'λ', which means the variance and mean are the same in a Poisson distribution.\n",
    "\n",
    "Relationship between Mean and Variance:\n",
    "In both the Binomial and Poisson distributions, the variance is influenced by the mean, but the specific relationship differs.\n",
    "\n",
    "In the Binomial distribution, the variance depends on both the number of trials 'n' and the probability of success 'p'. As 'n' increases, the variance tends to increase as well. The variance reaches its maximum value when 'p' is close to 0.5 and decreases as 'p' approaches 0 or 1.\n",
    "\n",
    "In the Poisson distribution, the variance is solely determined by the rate parameter 'λ'. The variance is always equal to 'λ', regardless of the value of 'λ'. This means that in a Poisson distribution, the variability (as measured by the variance) is solely determined by the average rate of events, and the variance is independent of the actual value of 'λ'.\n",
    "\n",
    "In summary, both the Binomial and Poisson distributions exhibit a relationship between their mean and variance, but the mechanisms and implications are different. In the Binomial distribution, the variance depends on both the number of trials and the probability of success, whereas in the Poisson distribution, the variance is solely determined by the rate parameter, which is equal to the mean.\n",
    "\n",
    "\n",
    "\n",
    "\n"
   ]
  },
  {
   "cell_type": "markdown",
   "id": "d76da264-7c22-4b0a-ac27-7db103a61bbb",
   "metadata": {},
   "source": [
    "Q10. In normal distribution with respect to mean position, where does the least frequent data appear?"
   ]
  },
  {
   "cell_type": "markdown",
   "id": "7f412019-0245-406a-9e65-c560b6f4a4f6",
   "metadata": {},
   "source": [
    "ANS:->\n",
    "In a normal distribution, the least frequent data appears in the tails of the distribution, farthest away from the mean. The normal distribution is symmetric, meaning it is centered around its mean (μ), and its shape is defined by its standard deviation (σ).\n",
    "\n",
    "Here's a brief explanation of how data frequency is distributed in a normal distribution:\n",
    "\n",
    "Mean (μ): The mean is the central value of the distribution, and it represents the peak or highest point of the bell-shaped curve. The highest frequency of data occurs at the mean, as it is the most likely value to be observed.\n",
    "\n",
    "Standard Deviation (σ): The standard deviation controls the spread or width of the curve. Larger values of σ result in wider curves, and smaller values result in narrower curves.\n",
    "\n",
    "Tails of the Distribution: The tails of the normal distribution are the parts that extend outward from the mean towards both ends. Data points in the tails have extreme values, either significantly higher or lower than the mean.\n",
    "\n",
    "Least Frequent Data: The data points in the tails of the distribution are the least frequent because they represent extreme values, and extreme values are less likely to occur in a normal distribution. As we move away from the mean towards the tails, the frequency of data decreases.\n",
    "\n",
    "Percentiles: The tails of the normal distribution contain a small percentage of data points. For instance, approximately 5% of the data falls beyond 2 standard deviations from the mean (in both tails) in a standard normal distribution.\n",
    "\n",
    "In summary, the least frequent data appears in the tails of the normal distribution, which are the parts farthest away from the mean. The bulk of the data, the most frequent values, is centered around the mean due to the symmetric nature of the distribution."
   ]
  },
  {
   "cell_type": "code",
   "execution_count": null,
   "id": "b5580034-c026-42a1-97a2-6e3542dae742",
   "metadata": {},
   "outputs": [],
   "source": []
  }
 ],
 "metadata": {
  "kernelspec": {
   "display_name": "Python 3 (ipykernel)",
   "language": "python",
   "name": "python3"
  },
  "language_info": {
   "codemirror_mode": {
    "name": "ipython",
    "version": 3
   },
   "file_extension": ".py",
   "mimetype": "text/x-python",
   "name": "python",
   "nbconvert_exporter": "python",
   "pygments_lexer": "ipython3",
   "version": "3.10.8"
  }
 },
 "nbformat": 4,
 "nbformat_minor": 5
}
